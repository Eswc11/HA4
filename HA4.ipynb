{
 "cells": [
  {
   "cell_type": "markdown",
   "id": "e90f85fe",
   "metadata": {},
   "source": [
    "# Data Statistics📊\n",
    "\n",
    "\n",
    "\n"
   ]
  },
  {
   "cell_type": "code",
   "id": "ec9232a3",
   "metadata": {
    "ExecuteTime": {
     "end_time": "2025-04-05T06:14:38.286499Z",
     "start_time": "2025-04-05T06:14:38.200487Z"
    }
   },
   "source": [
    "import numpy as np\n",
    "import pandas as pd\n",
    "import matplotlib.pyplot as plt\n",
    "import seaborn as sns"
   ],
   "outputs": [],
   "execution_count": 4
  },
  {
   "cell_type": "code",
   "id": "71134b2e",
   "metadata": {
    "ExecuteTime": {
     "end_time": "2025-04-05T06:14:40.314509Z",
     "start_time": "2025-04-05T06:14:40.304934Z"
    }
   },
   "source": [
    "data = [10, 12, 14, 15, 18, 21, 23, 25, 30, 35]"
   ],
   "outputs": [],
   "execution_count": 5
  },
  {
   "cell_type": "markdown",
   "id": "80e9b050",
   "metadata": {},
   "source": [
    "## 1. Percentiles\n",
    "Percentiles shows which value in the data is less than the specified percentage."
   ]
  },
  {
   "cell_type": "code",
   "id": "c557e8dc",
   "metadata": {
    "ExecuteTime": {
     "end_time": "2025-04-05T06:14:41.948821Z",
     "start_time": "2025-04-05T06:14:41.937784Z"
    }
   },
   "source": [
    "\n",
    "percentile_25 = np.percentile(data, 25)\n",
    "percentile_50 = np.percentile(data, 50)\n",
    "percentile_75 = np.percentile(data, 75)\n",
    "\n",
    "print(\"25th Percentile:\", percentile_25)\n",
    "print(\"50th Percentile (Median):\", percentile_50)\n",
    "print(\"75th Percentile:\", percentile_75)"
   ],
   "outputs": [
    {
     "name": "stdout",
     "output_type": "stream",
     "text": [
      "25th Percentile: 14.25\n",
      "50th Percentile (Median): 19.5\n",
      "75th Percentile: 24.5\n"
     ]
    }
   ],
   "execution_count": 6
  },
  {
   "cell_type": "markdown",
   "id": "54fd407b",
   "metadata": {},
   "source": [
    "## 2. Variance\n",
    "Variance measures how far data points spread out from the mean.It's simply the average square of the deviations from the mean."
   ]
  },
  {
   "cell_type": "code",
   "id": "53ee9984",
   "metadata": {
    "ExecuteTime": {
     "end_time": "2025-04-05T06:14:56.650112Z",
     "start_time": "2025-04-05T06:14:56.642564Z"
    }
   },
   "source": [
    "variance = np.var(data)\n",
    "print(\"Variance:\", variance)"
   ],
   "outputs": [
    {
     "name": "stdout",
     "output_type": "stream",
     "text": [
      "Variance: 58.80999999999999\n"
     ]
    }
   ],
   "execution_count": 7
  },
  {
   "cell_type": "markdown",
   "id": "e6e24cac",
   "metadata": {},
   "source": [
    "## 3. Standard Deviation\n",
    "Standard deviation is the square root of the variance.\n",
    "It shows how spread out the data is."
   ]
  },
  {
   "cell_type": "code",
   "id": "19fd1bb3",
   "metadata": {
    "ExecuteTime": {
     "end_time": "2025-04-05T06:15:00.461887Z",
     "start_time": "2025-04-05T06:15:00.456023Z"
    }
   },
   "source": [
    "std_dev = np.std(data)\n",
    "print(\"Standard Deviation:\", std_dev)"
   ],
   "outputs": [
    {
     "name": "stdout",
     "output_type": "stream",
     "text": [
      "Standard Deviation: 7.668767828015136\n"
     ]
    }
   ],
   "execution_count": 8
  },
  {
   "cell_type": "markdown",
   "id": "7f533b3b",
   "metadata": {},
   "source": [
    "## 4. Correlation\n",
    "Correlation measures the relationship between two variables (from -1 to 1).Correlation shows how strongly and in what direction two variables are related."
   ]
  },
  {
   "cell_type": "code",
   "execution_count": null,
   "id": "5d1dbc84",
   "metadata": {},
   "outputs": [],
   "source": [
    "x = np.array([1, 2, 3, 4, 5])\n",
    "y = np.array([2, 4, 6, 8, 10])\n",
    "\n",
    "correlation = np.corrcoef(x, y)[0, 1]\n",
    "print(\"Correlation between x and y:\", correlation)"
   ]
  },
  {
   "cell_type": "markdown",
   "id": "17526efa",
   "metadata": {},
   "source": [
    "## 5. Correlation Matrix\n",
    "When we have multiple variables, we use a correlation matrix to see relationships."
   ]
  },
  {
   "cell_type": "code",
   "execution_count": null,
   "id": "829cdc7a",
   "metadata": {},
   "outputs": [],
   "source": [
    "df = pd.DataFrame({\n",
    "    'A': [1, 2, 3, 4, 5],\n",
    "    'B': [2, 4, 6, 8, 10],\n",
    "    'C': [5, 3, 4, 2, 1]\n",
    "})\n",
    "\n",
    "print(df.corr())\n",
    "\n",
    "sns.heatmap(df.corr(), annot=True, cmap='coolwarm')\n",
    "plt.title('Correlation Matrix Heatmap')\n",
    "plt.show()"
   ]
  },
  {
   "cell_type": "markdown",
   "id": "c7756d08",
   "metadata": {},
   "source": [
    "## 6. Correlation vs. Causality\n",
    "**Important:** Correlation does NOT mean causation!\n",
    "\n",
    "For example, the number of ice creams sold and the number of people swimming are correlated, but both are caused by hot weather."
   ]
  },
  {
   "cell_type": "code",
   "execution_count": null,
   "id": "b1ea38b3",
   "metadata": {},
   "outputs": [],
   "source": [
    "print(\"Remember: Correlation does not imply causation!\")"
   ]
  },
  {
   "metadata": {},
   "cell_type": "markdown",
   "source": [
    "**Correlation** - Shows whether variables are related\n",
    "\n",
    "**Correlation Matrix**  - Table of all correlation coefficients between variables"
   ],
   "id": "932a82f77b7f55aa"
  }
 ],
 "metadata": {
  "kernelspec": {
   "name": "python3",
   "language": "python",
   "display_name": "Python 3 (ipykernel)"
  }
 },
 "nbformat": 4,
 "nbformat_minor": 5
}
